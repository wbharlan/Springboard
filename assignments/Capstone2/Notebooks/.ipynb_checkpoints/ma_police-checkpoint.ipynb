{
 "cells": [
  {
   "cell_type": "markdown",
   "id": "28efd45c",
   "metadata": {},
   "source": [
    "## Import"
   ]
  },
  {
   "cell_type": "code",
   "execution_count": 20,
   "id": "4c1c52e4",
   "metadata": {},
   "outputs": [],
   "source": [
    "import pandas as pd\n",
    "import numpy as np\n",
    "import matplotlib.pyplot as plt\n",
    "import seaborn as sns\n",
    "import os\n",
    "import requests\n",
    "from bs4 import BeautifulSoup"
   ]
  },
  {
   "cell_type": "markdown",
   "id": "ba1459ee",
   "metadata": {},
   "source": [
    "## Loading data"
   ]
  },
  {
   "cell_type": "code",
   "execution_count": 2,
   "id": "f89eb039",
   "metadata": {},
   "outputs": [
    {
     "name": "stderr",
     "output_type": "stream",
     "text": [
      "C:\\ProgramData\\Anaconda3\\lib\\site-packages\\IPython\\core\\interactiveshell.py:3165: DtypeWarning: Columns (8,9,10) have mixed types.Specify dtype option on import or set low_memory=False.\n",
      "  has_raised = await self.run_ast_nodes(code_ast.body, cell_name,\n"
     ]
    }
   ],
   "source": [
    "police_data = pd.read_csv('ma_statewide_2020_04_01.csv')"
   ]
  },
  {
   "cell_type": "code",
   "execution_count": 3,
   "id": "ab214a40",
   "metadata": {},
   "outputs": [
    {
     "name": "stdout",
     "output_type": "stream",
     "text": [
      "Index(['raw_row_number', 'date', 'location', 'county_name', 'subject_age',\n",
      "       'subject_race', 'subject_sex', 'type', 'arrest_made', 'citation_issued',\n",
      "       'warning_issued', 'outcome', 'contraband_found', 'contraband_drugs',\n",
      "       'contraband_weapons', 'contraband_alcohol', 'contraband_other',\n",
      "       'frisk_performed', 'search_conducted', 'search_basis',\n",
      "       'reason_for_stop', 'vehicle_type', 'vehicle_registration_state',\n",
      "       'raw_Race'],\n",
      "      dtype='object')\n"
     ]
    }
   ],
   "source": [
    "print(police_data.columns)"
   ]
  },
  {
   "cell_type": "code",
   "execution_count": 4,
   "id": "82d0cff4",
   "metadata": {},
   "outputs": [
    {
     "data": {
      "text/plain": [
       "<bound method DataFrame.info of          raw_row_number        date       location       county_name  \\\n",
       "0                     1  2007-06-06  MIDDLEBOROUGH   Plymouth County   \n",
       "1                     2  2007-06-07        SEEKONK    Bristol County   \n",
       "2                     3  2007-06-07        MEDFORD  Middlesex County   \n",
       "3                     4  2007-06-07        MEDFORD  Middlesex County   \n",
       "4                     5  2007-06-07        EVERETT  Middlesex County   \n",
       "...                 ...         ...            ...               ...   \n",
       "3416233         3418294  2015-12-22      DARTMOUTH    Bristol County   \n",
       "3416234         3418295  2015-12-27     FALL RIVER    Bristol County   \n",
       "3416235         3418296  2015-01-06    NORTHAMPTON  Hampshire County   \n",
       "3416236         3418297  2015-01-06        HOLYOKE    Hampden County   \n",
       "3416237         3418298  2015-01-06        HOLYOKE    Hampden County   \n",
       "\n",
       "         subject_age            subject_race subject_sex       type  \\\n",
       "0               33.0                   white        male  vehicular   \n",
       "1               36.0                   white        male  vehicular   \n",
       "2               56.0                   white      female  vehicular   \n",
       "3               37.0                   white        male  vehicular   \n",
       "4               22.0                hispanic      female  vehicular   \n",
       "...              ...                     ...         ...        ...   \n",
       "3416233         25.0                   white        male  vehicular   \n",
       "3416234         52.0  asian/pacific islander      female  vehicular   \n",
       "3416235         41.0                   white      female  vehicular   \n",
       "3416236         26.0                   white        male  vehicular   \n",
       "3416237         52.0                   white        male  vehicular   \n",
       "\n",
       "        arrest_made citation_issued  ... contraband_weapons  \\\n",
       "0             False            True  ...                NaN   \n",
       "1             False           False  ...              False   \n",
       "2             False           False  ...                NaN   \n",
       "3             False           False  ...                NaN   \n",
       "4             False            True  ...                NaN   \n",
       "...             ...             ...  ...                ...   \n",
       "3416233       False            True  ...                NaN   \n",
       "3416234       False            True  ...                NaN   \n",
       "3416235       False           False  ...                NaN   \n",
       "3416236       False            True  ...                NaN   \n",
       "3416237       False            True  ...                NaN   \n",
       "\n",
       "        contraband_alcohol contraband_other frisk_performed search_conducted  \\\n",
       "0                    False              NaN             NaN            False   \n",
       "1                    False            False           False             True   \n",
       "2                    False              NaN             NaN            False   \n",
       "3                    False              NaN             NaN            False   \n",
       "4                    False              NaN             NaN            False   \n",
       "...                    ...              ...             ...              ...   \n",
       "3416233              False              NaN             NaN            False   \n",
       "3416234              False              NaN             NaN            False   \n",
       "3416235              False              NaN             NaN            False   \n",
       "3416236              False              NaN             NaN            False   \n",
       "3416237              False              NaN             NaN            False   \n",
       "\n",
       "         search_basis reason_for_stop vehicle_type  \\\n",
       "0                 NaN           Speed    Passenger   \n",
       "1               other             NaN   Commercial   \n",
       "2                 NaN             NaN    Passenger   \n",
       "3                 NaN             NaN   Commercial   \n",
       "4                 NaN             NaN   Commercial   \n",
       "...               ...             ...          ...   \n",
       "3416233           NaN           Speed    Passenger   \n",
       "3416234           NaN           Speed    Passenger   \n",
       "3416235           NaN             NaN    Passenger   \n",
       "3416236           NaN             NaN    Passenger   \n",
       "3416237           NaN             NaN    Passenger   \n",
       "\n",
       "         vehicle_registration_state                   raw_Race  \n",
       "0                                MA                      White  \n",
       "1                                MA                      White  \n",
       "2                                MA                      White  \n",
       "3                                MA                      White  \n",
       "4                                MA                   Hispanic  \n",
       "...                             ...                        ...  \n",
       "3416233                          MA                      White  \n",
       "3416234                          MA  Asian or Pacific Islander  \n",
       "3416235                          MA                      White  \n",
       "3416236                          MA                      White  \n",
       "3416237                          MA                      White  \n",
       "\n",
       "[3416238 rows x 24 columns]>"
      ]
     },
     "execution_count": 4,
     "metadata": {},
     "output_type": "execute_result"
    }
   ],
   "source": [
    "police_data.info"
   ]
  },
  {
   "cell_type": "code",
   "execution_count": 5,
   "id": "e2e4c51b",
   "metadata": {},
   "outputs": [
    {
     "data": {
      "text/plain": [
       "array(['Speed', nan, 'SeatBelt', 'Speed,SeatBelt',\n",
       "       'Speed,SeatBelt,ChildRest', 'ChildRest', 'Speed,ChildRest',\n",
       "       'SeatBelt,ChildRest'], dtype=object)"
      ]
     },
     "execution_count": 5,
     "metadata": {},
     "output_type": "execute_result"
    }
   ],
   "source": [
    "### not a lot of information/variety in this field\n",
    "\n",
    "police_data.reason_for_stop.unique()"
   ]
  },
  {
   "cell_type": "code",
   "execution_count": 6,
   "id": "3967df96",
   "metadata": {},
   "outputs": [
    {
     "data": {
      "text/plain": [
       "array([nan, 'other', 'consent', 'probable cause'], dtype=object)"
      ]
     },
     "execution_count": 6,
     "metadata": {},
     "output_type": "execute_result"
    }
   ],
   "source": [
    "police_data.search_basis.unique()"
   ]
  },
  {
   "cell_type": "code",
   "execution_count": 7,
   "id": "d511bcf3",
   "metadata": {},
   "outputs": [
    {
     "data": {
      "text/html": [
       "<div>\n",
       "<style scoped>\n",
       "    .dataframe tbody tr th:only-of-type {\n",
       "        vertical-align: middle;\n",
       "    }\n",
       "\n",
       "    .dataframe tbody tr th {\n",
       "        vertical-align: top;\n",
       "    }\n",
       "\n",
       "    .dataframe thead th {\n",
       "        text-align: right;\n",
       "    }\n",
       "</style>\n",
       "<table border=\"1\" class=\"dataframe\">\n",
       "  <thead>\n",
       "    <tr style=\"text-align: right;\">\n",
       "      <th></th>\n",
       "      <th>count</th>\n",
       "      <th>%</th>\n",
       "    </tr>\n",
       "  </thead>\n",
       "  <tbody>\n",
       "    <tr>\n",
       "      <th>search_basis</th>\n",
       "      <td>3365209</td>\n",
       "      <td>98.506281</td>\n",
       "    </tr>\n",
       "    <tr>\n",
       "      <th>frisk_performed</th>\n",
       "      <td>3361607</td>\n",
       "      <td>98.400843</td>\n",
       "    </tr>\n",
       "    <tr>\n",
       "      <th>contraband_found</th>\n",
       "      <td>3360508</td>\n",
       "      <td>98.368673</td>\n",
       "    </tr>\n",
       "    <tr>\n",
       "      <th>contraband_weapons</th>\n",
       "      <td>3360508</td>\n",
       "      <td>98.368673</td>\n",
       "    </tr>\n",
       "    <tr>\n",
       "      <th>contraband_other</th>\n",
       "      <td>3360508</td>\n",
       "      <td>98.368673</td>\n",
       "    </tr>\n",
       "    <tr>\n",
       "      <th>contraband_drugs</th>\n",
       "      <td>3360508</td>\n",
       "      <td>98.368673</td>\n",
       "    </tr>\n",
       "    <tr>\n",
       "      <th>reason_for_stop</th>\n",
       "      <td>1659589</td>\n",
       "      <td>48.579432</td>\n",
       "    </tr>\n",
       "    <tr>\n",
       "      <th>subject_age</th>\n",
       "      <td>158006</td>\n",
       "      <td>4.625146</td>\n",
       "    </tr>\n",
       "    <tr>\n",
       "      <th>subject_sex</th>\n",
       "      <td>15623</td>\n",
       "      <td>0.457316</td>\n",
       "    </tr>\n",
       "    <tr>\n",
       "      <th>vehicle_registration_state</th>\n",
       "      <td>9814</td>\n",
       "      <td>0.287275</td>\n",
       "    </tr>\n",
       "    <tr>\n",
       "      <th>outcome</th>\n",
       "      <td>6858</td>\n",
       "      <td>0.200747</td>\n",
       "    </tr>\n",
       "    <tr>\n",
       "      <th>location</th>\n",
       "      <td>6666</td>\n",
       "      <td>0.195127</td>\n",
       "    </tr>\n",
       "    <tr>\n",
       "      <th>county_name</th>\n",
       "      <td>6666</td>\n",
       "      <td>0.195127</td>\n",
       "    </tr>\n",
       "    <tr>\n",
       "      <th>vehicle_type</th>\n",
       "      <td>4963</td>\n",
       "      <td>0.145277</td>\n",
       "    </tr>\n",
       "    <tr>\n",
       "      <th>raw_Race</th>\n",
       "      <td>1664</td>\n",
       "      <td>0.048709</td>\n",
       "    </tr>\n",
       "    <tr>\n",
       "      <th>subject_race</th>\n",
       "      <td>1664</td>\n",
       "      <td>0.048709</td>\n",
       "    </tr>\n",
       "    <tr>\n",
       "      <th>warning_issued</th>\n",
       "      <td>916</td>\n",
       "      <td>0.026813</td>\n",
       "    </tr>\n",
       "    <tr>\n",
       "      <th>citation_issued</th>\n",
       "      <td>916</td>\n",
       "      <td>0.026813</td>\n",
       "    </tr>\n",
       "    <tr>\n",
       "      <th>arrest_made</th>\n",
       "      <td>916</td>\n",
       "      <td>0.026813</td>\n",
       "    </tr>\n",
       "    <tr>\n",
       "      <th>contraband_alcohol</th>\n",
       "      <td>0</td>\n",
       "      <td>0.000000</td>\n",
       "    </tr>\n",
       "    <tr>\n",
       "      <th>date</th>\n",
       "      <td>0</td>\n",
       "      <td>0.000000</td>\n",
       "    </tr>\n",
       "    <tr>\n",
       "      <th>search_conducted</th>\n",
       "      <td>0</td>\n",
       "      <td>0.000000</td>\n",
       "    </tr>\n",
       "    <tr>\n",
       "      <th>type</th>\n",
       "      <td>0</td>\n",
       "      <td>0.000000</td>\n",
       "    </tr>\n",
       "    <tr>\n",
       "      <th>raw_row_number</th>\n",
       "      <td>0</td>\n",
       "      <td>0.000000</td>\n",
       "    </tr>\n",
       "  </tbody>\n",
       "</table>\n",
       "</div>"
      ],
      "text/plain": [
       "                              count          %\n",
       "search_basis                3365209  98.506281\n",
       "frisk_performed             3361607  98.400843\n",
       "contraband_found            3360508  98.368673\n",
       "contraband_weapons          3360508  98.368673\n",
       "contraband_other            3360508  98.368673\n",
       "contraband_drugs            3360508  98.368673\n",
       "reason_for_stop             1659589  48.579432\n",
       "subject_age                  158006   4.625146\n",
       "subject_sex                   15623   0.457316\n",
       "vehicle_registration_state     9814   0.287275\n",
       "outcome                        6858   0.200747\n",
       "location                       6666   0.195127\n",
       "county_name                    6666   0.195127\n",
       "vehicle_type                   4963   0.145277\n",
       "raw_Race                       1664   0.048709\n",
       "subject_race                   1664   0.048709\n",
       "warning_issued                  916   0.026813\n",
       "citation_issued                 916   0.026813\n",
       "arrest_made                     916   0.026813\n",
       "contraband_alcohol                0   0.000000\n",
       "date                              0   0.000000\n",
       "search_conducted                  0   0.000000\n",
       "type                              0   0.000000\n",
       "raw_row_number                    0   0.000000"
      ]
     },
     "execution_count": 7,
     "metadata": {},
     "output_type": "execute_result"
    }
   ],
   "source": [
    "missing = pd.concat([police_data.isnull().sum(), 100 * police_data.isnull().mean()], axis=1)\n",
    "missing.columns=['count', '%']\n",
    "missing.sort_values(by='%', ascending=False)"
   ]
  },
  {
   "cell_type": "markdown",
   "id": "228239a9",
   "metadata": {},
   "source": [
    "There are a lot of missing values for search_basis, frisk_performed, contraband_..., and reason_for_stop. All are optional fields. Is it safe to assume that the null values in search_, frisk_, contraband_... are actually false? Or, said explicitly, that these incidents would certainly be documented?\n",
    "\n",
    "Additionally, since values for Race and location/county name are especially important to my interests, I will drop rows with missing values there."
   ]
  },
  {
   "cell_type": "code",
   "execution_count": 8,
   "id": "d3018042",
   "metadata": {},
   "outputs": [
    {
     "data": {
      "text/plain": [
       "0    99.951291\n",
       "2     0.048709\n",
       "dtype: float64"
      ]
     },
     "execution_count": 8,
     "metadata": {},
     "output_type": "execute_result"
    }
   ],
   "source": [
    "# raw_race and subj_race may be related, but i wanted to check to see their missing values were\n",
    "# the same\n",
    "missing_race_info = police_data[['raw_Race', 'subject_race']].isnull().sum(axis=1)\n",
    "missing_race_info.value_counts() / len(missing_race_info) * 100"
   ]
  },
  {
   "cell_type": "markdown",
   "id": "63ff7c6a",
   "metadata": {},
   "source": [
    "Since this single result (2) checks out with the missing vals for raw_Race and subj_race above, I can safely assume they share the same missing values. I'm ready to drop them."
   ]
  },
  {
   "cell_type": "code",
   "execution_count": 9,
   "id": "359ecbaa",
   "metadata": {},
   "outputs": [],
   "source": [
    "police_data = police_data[missing_race_info != 2]"
   ]
  },
  {
   "cell_type": "code",
   "execution_count": 10,
   "id": "58daa459",
   "metadata": {},
   "outputs": [
    {
     "data": {
      "text/plain": [
       "0    99.804807\n",
       "2     0.195193\n",
       "dtype: float64"
      ]
     },
     "execution_count": 10,
     "metadata": {},
     "output_type": "execute_result"
    }
   ],
   "source": [
    "# as above, but with location and county data\n",
    "missing_loc_info = police_data[['location', 'county_name']].isnull().sum(axis=1)\n",
    "missing_loc_info.value_counts() / len(missing_loc_info) * 100"
   ]
  },
  {
   "cell_type": "code",
   "execution_count": 11,
   "id": "adb2ffc2",
   "metadata": {},
   "outputs": [],
   "source": [
    "police_data = police_data[missing_loc_info != 2]"
   ]
  },
  {
   "cell_type": "code",
   "execution_count": 12,
   "id": "4d303a35",
   "metadata": {},
   "outputs": [
    {
     "name": "stdout",
     "output_type": "stream",
     "text": [
      "Location unique check: ['MIDDLEBOROUGH' 'SEEKONK' 'MEDFORD' 'EVERETT' 'SOMERVILLE' 'HOPKINTON'\n",
      " 'BARNSTABLE' 'MALDEN' 'WHATELY' 'BOSTON' 'NEEDHAM' 'BRAINTREE'\n",
      " 'FRAMINGHAM' 'RAYNHAM' 'TAUNTON' 'FOXBOROUGH' 'FREETOWN' 'LAKEVILLE'\n",
      " 'BILLERICA' 'WOBURN' 'WAREHAM' 'BOURNE' 'PLYMOUTH' 'SANDWICH' 'NEW SALEM'\n",
      " 'BELCHERTOWN' 'CHELMSFORD' 'REVERE' 'ABINGTON' 'MEDWAY' 'MILFORD'\n",
      " 'MARLBOROUGH' 'RANDOLPH' 'NORTON' 'MANSFIELD' 'PLAINVILLE' 'WESTBOROUGH'\n",
      " 'WORCESTER' 'MILLBURY' 'AUBURN' 'OXFORD' 'ARLINGTON' 'CAMBRIDGE'\n",
      " 'BELMONT' 'WATERTOWN' 'NEW BEDFORD' 'NORTHAMPTON' 'LEE' 'LENOX'\n",
      " 'SOUTHBOROUGH' 'FALL RIVER' 'WESTPORT' 'YARMOUTH' 'NORTH ADAMS'\n",
      " 'WILLIAMSTOWN' 'HARWICH' 'QUINCY' 'RICHMOND' 'MILTON' 'STOCKBRIDGE'\n",
      " 'WALPOLE' 'WRENTHAM' 'NORTH ATTLEBOROUGH' 'ATTLEBORO' 'MERRIMAC'\n",
      " 'BOXFORD' 'DANVERS' 'PEABODY' 'WEST NEWBURY' 'NEWBURYPORT' 'GEORGETOWN'\n",
      " 'LYNNFIELD' 'SPRINGFIELD' 'SOUTHWICK' 'WESTFIELD' 'RUSSELL' 'TEMPLETON'\n",
      " 'GARDNER' 'BROCKTON' 'WEST BRIDGEWATER' 'LEXINGTON' 'WESTON' 'STONEHAM'\n",
      " 'CHELSEA' 'SAUGUS' 'SHARON' 'READING' 'HOLYOKE' 'GREAT BARRINGTON'\n",
      " 'WESTMINSTER' 'CHESHIRE' 'CUMMINGTON' 'WINDSOR' 'SAVOY' 'FRANKLIN'\n",
      " 'LANESBOROUGH' 'BECKET' 'OTIS' 'NEWTON' 'CHICOPEE' 'BURLINGTON'\n",
      " 'WAKEFIELD' 'MIDDLETON' 'MANCHESTER' 'BEVERLY' 'FALMOUTH' 'DENNIS'\n",
      " 'BRIDGEWATER' 'CANTON' 'WESTWOOD' 'WELLESLEY' 'WALTHAM' 'DEDHAM'\n",
      " 'ACUSHNET' 'NANTUCKET' 'STURBRIDGE' 'HATFIELD' 'WEST STOCKBRIDGE'\n",
      " 'AGAWAM' 'ACTON' 'TYRINGHAM' 'BEDFORD' 'PITTSFIELD' 'ALFORD' 'GRAFTON'\n",
      " 'NATICK' 'WARE' 'LINCOLN' 'WARREN' 'ATHOL' 'GILL' 'GREENFIELD'\n",
      " 'BERNARDSTON' 'ADAMS' 'DALTON' 'PALMER' 'PEMBROKE' 'WEYMOUTH' 'NORWELL'\n",
      " 'SANDISFIELD' 'NEW MARLBOROUGH' 'MONTEREY' 'ROCKLAND' 'SALISBURY'\n",
      " 'MARION' 'NEWBURY' 'ROWLEY' 'HAVERHILL' 'SHREWSBURY' 'STOUGHTON' 'AVON'\n",
      " 'NEW ASHFORD' 'LONGMEADOW' 'PHILLIPSTON' 'SOMERSET' 'ANDOVER'\n",
      " 'WEST SPRINGFIELD' 'DEERFIELD' 'SHELBURNE' 'DARTMOUTH' 'LOWELL'\n",
      " 'SUNDERLAND' 'BREWSTER' 'EASTHAMPTON' 'HADLEY' 'CHARLEMONT' 'CONWAY'\n",
      " 'COLRAIN' 'LEICESTER' 'SWANSEA' 'SOUTHBRIDGE' 'BRIMFIELD' 'CHARLTON'\n",
      " 'WEBSTER' 'BROOKLINE' 'SPENCER' 'EAST BROOKFIELD' 'LYNN' 'BLANDFORD'\n",
      " 'HANCOCK' 'TOPSFIELD' 'REHOBOTH' 'FAIRHAVEN' 'LITTLETON' 'AMHERST'\n",
      " 'SOUTHAMPTON' 'ORANGE' 'ORLEANS' 'FITCHBURG' 'HOLDEN' 'WILMINGTON'\n",
      " 'EASTHAM' 'WORTHINGTON' 'TEWKSBURY' 'HUNTINGTON' 'NORTHBOROUGH'\n",
      " 'BELLINGHAM' 'LUDLOW' 'STERLING' 'NORWOOD' 'LAWRENCE' 'LEOMINSTER'\n",
      " 'WEST BOYLSTON' 'AYER' 'HARVARD' 'BERLIN' 'LANCASTER' 'LUNENBURG'\n",
      " 'NORTH BROOKFIELD' 'BOLTON' 'MASHPEE' 'CONCORD' 'AMESBURY' 'SHEFFIELD'\n",
      " 'KINGSTON' 'ASHFIELD' 'BUCKLAND' 'WINCHESTER' 'DUXBURY' 'NORTHFIELD'\n",
      " 'BERKLEY' 'MONTAGUE' 'WEST TISBURY' 'ROCHESTER' 'DIGHTON' 'ROWE'\n",
      " 'HANOVER' 'WASHINGTON' 'EDGARTOWN' 'OAK BLUFFS' 'SALEM' 'MONTGOMERY'\n",
      " 'WESTFORD' 'TISBURY' 'ESSEX' 'METHUEN' 'HARDWICK' 'GRANVILLE' 'MELROSE'\n",
      " 'DRACUT' 'HINGHAM' 'HULL' 'EAST LONGMEADOW' 'PELHAM' 'SHUTESBURY'\n",
      " 'WENHAM' 'GRANBY' 'HUDSON' 'TOLLAND' 'NORTH ANDOVER' 'HINSDALE' 'FLORIDA'\n",
      " 'CLARKSBURG' 'WILLIAMSBURG' 'NORTHBRIDGE' 'CARVER' 'NORTH READING'\n",
      " 'CHESTER' 'UXBRIDGE' 'NAHANT' 'MATTAPOISETT' 'WINTHROP' 'WESTHAMPTON'\n",
      " 'BARRE' 'PAXTON' 'HUBBARDSTON' 'WEST BROOKFIELD' 'SUTTON' 'WAYLAND'\n",
      " 'OAKHAM' 'MONSON' 'IPSWICH' 'GLOUCESTER' 'EGREMONT' 'WELLFLEET'\n",
      " 'MARSHFIELD' 'DUDLEY' 'NORFOLK' 'BROOKFIELD' 'WINCHENDON' 'CHILMARK'\n",
      " 'PERU' 'BOYLSTON' 'ERVING' 'ASHBURNHAM' 'RUTLAND' 'SWAMPSCOTT' 'GOSHEN'\n",
      " 'HANSON' 'UPTON' 'HAWLEY' 'PRINCETON' 'HEATH' 'CHESTERFIELD' 'HOPEDALE'\n",
      " 'DOUGLAS' 'HOLLAND' 'WALES' 'SHERBORN' 'MIDDLEFIELD' 'PLAINFIELD'\n",
      " 'ASHLAND' 'BOXBOROUGH' 'MAYNARD' 'WILBRAHAM' 'WHITMAN' 'TYNGSBOROUGH'\n",
      " 'EAST BRIDGEWATER' 'SOUTH HADLEY' 'EASTON' 'GAY HEAD/AQUINNAH' 'PLYMPTON'\n",
      " 'LEVERETT' 'SUDBURY' 'MOUNT WASHINGTON' 'ASHBY' 'WENDELL' 'TRURO'\n",
      " 'PROVINCETOWN' 'MILLIS' 'DUNSTABLE' 'CLINTON' 'COHASSET' 'SCITUATE'\n",
      " 'MEDFIELD' 'MONROE' 'MENDON' 'SHIRLEY' 'MILLVILLE' 'HOLBROOK' 'WARWICK'\n",
      " 'BLACKSTONE' 'PETERSHAM' 'HAMPDEN' 'ROCKPORT' 'HOLLISTON' 'GROTON'\n",
      " 'NEW BRAINTREE' 'MARBLEHEAD' 'STOW' 'CHATHAM' 'CARLISLE' 'GROVELAND'\n",
      " 'TOWNSEND' 'DOVER' 'HALIFAX' 'HAMILTON' 'PEPPERELL' 'ROYALSTON' 'LEYDEN']\n",
      "County unique check: ['Plymouth County' 'Bristol County' 'Middlesex County' 'Barnstable County'\n",
      " 'Franklin County' 'Suffolk County' 'Norfolk County' 'Hampshire County'\n",
      " 'Worcester County' 'Berkshire County' 'Essex County' 'Hampden County'\n",
      " 'Nantucket County' 'Dukes County']\n",
      "Raw race unique check: ['White' 'Hispanic' 'Black' 'Asian or Pacific Islander'\n",
      " 'Middle Eastern or East Indian (South Asian)'\n",
      " 'American Indian or Alaskan Native'\n",
      " 'None - for no operator present citations only' 'A']\n",
      "Subj race unique check: ['white' 'hispanic' 'black' 'asian/pacific islander' 'other' 'unknown']\n"
     ]
    }
   ],
   "source": [
    "# Here I check for unique values in a few fields, to make sure that there is uniformity in names and no typographical errors\n",
    "print('Location unique check: '+str(police_data['location'].unique()))\n",
    "print('County unique check: '+str(police_data['county_name'].unique()))\n",
    "print('Raw race unique check: '+str(police_data['raw_Race'].unique()))\n",
    "print('Subj race unique check: '+str(police_data['subject_race'].unique()))"
   ]
  },
  {
   "cell_type": "markdown",
   "id": "e08b30d1",
   "metadata": {},
   "source": [
    "From a glance I can tell county, raw race, and subj race are distinct. Looking more closely at raw race race, I can see that some of these values are ambiguously coded. I won't drop the column, but I think I'll be more inclined to just use the subj. race count which, presumably, is cleaned via stanford \n",
    "\n",
    "Location is more difficult to tell at a glance. I may want to get a list of cities/towns in MA to validate against this. Alternatively, I could also do a check with fuzzy wuzzy for things which are similar."
   ]
  },
  {
   "cell_type": "code",
   "execution_count": 13,
   "id": "afff08f7",
   "metadata": {},
   "outputs": [],
   "source": [
    "# This is likely overkill, but I wanted to be sure that the list of locations is accurate/there aren't\n",
    "# typos or dupes. Scraping a list of MA municipalities from wikipedia to do some set comparisons with.\n",
    "\n",
    "url = 'https://en.wikipedia.org/wiki/List_of_municipalities_in_Massachusetts'\n",
    "table_class = 'wikitable sortable jquery-tablesorter'\n",
    "r = requests.get(url)\n",
    "soup = BeautifulSoup(r.text, 'html.parser')\n",
    "ma_table = soup.find('table',{'class':\"wikitable\"})"
   ]
  },
  {
   "cell_type": "code",
   "execution_count": 14,
   "id": "2a52509c",
   "metadata": {},
   "outputs": [
    {
     "name": "stdout",
     "output_type": "stream",
     "text": [
      "0    ABINGTON\n",
      "1       ACTON\n",
      "2    ACUSHNET\n",
      "3       ADAMS\n",
      "4      AGAWAM\n",
      "Name: Municipality, dtype: object\n",
      "['BARNSTABLE', 'BOSTON', 'TAUNTON', 'PLYMOUTH', 'WORCESTER', 'CAMBRIDGE', 'NORTHAMPTON', 'SPRINGFIELD', 'BROCKTON', 'MANCHESTER', 'DEDHAM', 'NANTUCKET', 'PITTSFIELD', 'GREENFIELD', 'LOWELL', 'LAWRENCE', 'EDGARTOWN', 'SALEM', 'GAY HEAD/AQUINNAH']\n"
     ]
    }
   ],
   "source": [
    "# Converting the html to a pandas dataframe; comparing its unique values to that of police_data.\n",
    "# to-do: strip special values\n",
    "ma_municipals = pd.read_html(str(ma_table))\n",
    "ma_municipals = pd.DataFrame(ma_municipals[0])\n",
    "ma_municipals = ma_municipals['Municipality'].str.upper()\n",
    "print(ma_municipals.head())\n",
    "print([m for m in police_data['location'].unique() if m not in ma_municipals.unique()])"
   ]
  },
  {
   "cell_type": "markdown",
   "id": "79ba504e",
   "metadata": {},
   "source": [
    "I'm satisfied with this -- the places in police_data['location'] align with the unique values in the municipality table from Wikipedia. The element which caused the above list to be populated were the cross symbols from the wikipedia table"
   ]
  },
  {
   "cell_type": "code",
   "execution_count": 33,
   "id": "8a00975d",
   "metadata": {
    "scrolled": false
   },
   "outputs": [
    {
     "name": "stdout",
     "output_type": "stream",
     "text": [
      "white                     2525831\n",
      "black                      350301\n",
      "hispanic                   337583\n",
      "asian/pacific islander     166302\n",
      "unknown                     16980\n",
      "other                       10912\n",
      "Name: subject_race, dtype: int64\n",
      "Worcester County     660815\n",
      "Suffolk County       547465\n",
      "Middlesex County     523032\n",
      "Hampden County       371616\n",
      "Norfolk County       270921\n",
      "Essex County         258884\n",
      "Bristol County       188290\n",
      "Plymouth County      166635\n",
      "Berkshire County     127387\n",
      "Franklin County       99712\n",
      "Barnstable County     97723\n",
      "Hampshire County      84972\n",
      "Nantucket County       5781\n",
      "Dukes County           4676\n",
      "Name: county_name, dtype: int64\n"
     ]
    },
    {
     "data": {
      "image/png": "[encoded data removed]",
      "text/plain": [
       "<Figure size 1080x720 with 2 Axes>"
      ]
     },
     "metadata": {
      "needs_background": "light"
     },
     "output_type": "display_data"
    }
   ],
   "source": [
    "# Reviewing distributions and value counts\n",
    "police_data.hist(figsize=(15, 10))\n",
    "plt.subplots_adjust(hspace=0.5);\n",
    "\n",
    "print(police_data['subject_race'].value_counts())\n",
    "\n",
    "print(police_data['county_name'].value_counts())"
   ]
  },
  {
   "cell_type": "markdown",
   "id": "826fb186",
   "metadata": {},
   "source": [
    "This shows me a few things. For one, there are plenty of data points for race. \n",
    "\n",
    "There are also plenty of data points for most counties. Nantucket and Dukes are both a bit low. I may want to consider dropping them altogether. Alternatively, for my visualization, I could indicate fewer data points were available.  \n",
    "\n",
    "Additionally, there could potentially be over representation for younger ages. Thinking about it, that shouldn't matter too much -- this is about finding trends and i imagine that as age increases the likelihood of driving in the first place may decrease. If I wanted to be very cautious I could find a distribution of drivers in the US by age and find a way to make the police_data age distrbution trim as appropriate."
   ]
  },
  {
   "cell_type": "code",
   "execution_count": 34,
   "id": "eec8dce0",
   "metadata": {},
   "outputs": [
    {
     "name": "stdout",
     "output_type": "stream",
     "text": [
      "<class 'pandas.core.frame.DataFrame'>\n",
      "Int64Index: 3407909 entries, 0 to 3416237\n",
      "Data columns (total 24 columns):\n",
      " #   Column                      Dtype  \n",
      "---  ------                      -----  \n",
      " 0   raw_row_number              int64  \n",
      " 1   date                        object \n",
      " 2   location                    object \n",
      " 3   county_name                 object \n",
      " 4   subject_age                 float64\n",
      " 5   subject_race                object \n",
      " 6   subject_sex                 object \n",
      " 7   type                        object \n",
      " 8   arrest_made                 object \n",
      " 9   citation_issued             object \n",
      " 10  warning_issued              object \n",
      " 11  outcome                     object \n",
      " 12  contraband_found            object \n",
      " 13  contraband_drugs            object \n",
      " 14  contraband_weapons          object \n",
      " 15  contraband_alcohol          bool   \n",
      " 16  contraband_other            object \n",
      " 17  frisk_performed             object \n",
      " 18  search_conducted            bool   \n",
      " 19  search_basis                object \n",
      " 20  reason_for_stop             object \n",
      " 21  vehicle_type                object \n",
      " 22  vehicle_registration_state  object \n",
      " 23  raw_Race                    object \n",
      "dtypes: bool(2), float64(1), int64(1), object(20)\n",
      "memory usage: 604.5+ MB\n"
     ]
    }
   ],
   "source": [
    "police_data.info()"
   ]
  },
  {
   "cell_type": "markdown",
   "id": "81727614",
   "metadata": {},
   "source": [
    "Odd that arrest_made, citation_issued, warning_issued, among other object types which could be boolean aren't. Is this because of NaNs? "
   ]
  },
  {
   "cell_type": "code",
   "execution_count": 35,
   "id": "7a836abb",
   "metadata": {},
   "outputs": [
    {
     "name": "stdout",
     "output_type": "stream",
     "text": [
      "[False True nan]\n",
      "[True False nan]\n",
      "[False True nan]\n",
      "[nan False True]\n"
     ]
    }
   ],
   "source": [
    "boo_list = ['arrest_made', 'citation_issued', 'warning_issued', 'contraband_found']\n",
    "for cat in boo_list:\n",
    "    print(police_data[cat].unique())"
   ]
  },
  {
   "cell_type": "markdown",
   "id": "893f5a42",
   "metadata": {},
   "source": [
    "This shows me that yes, they are largely boolean with missing values. Ought I convert these to boolean or should I leave them as is? Or convert them to 1s and 0s? I'll circle around and ask my mentor about this."
   ]
  },
  {
   "cell_type": "code",
   "execution_count": null,
   "id": "002e4650",
   "metadata": {},
   "outputs": [],
   "source": []
  }
 ],
 "metadata": {
  "kernelspec": {
   "display_name": "Python 3",
   "language": "python",
   "name": "python3"
  },
  "language_info": {
   "codemirror_mode": {
    "name": "ipython",
    "version": 3
   },
   "file_extension": ".py",
   "mimetype": "text/x-python",
   "name": "python",
   "nbconvert_exporter": "python",
   "pygments_lexer": "ipython3",
   "version": "3.8.8"
  }
 },
 "nbformat": 4,
 "nbformat_minor": 5
}
